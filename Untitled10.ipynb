{
 "cells": [
  {
   "cell_type": "markdown",
   "id": "a07614e7-ddd6-4c7f-9ae4-2e6391d09591",
   "metadata": {},
   "source": [
    "# SMOTEBook\n",
    "\n",
    "In this notebook, we'll explore some sampling techniques designed to balance the representation of classes in a dataset.  In particular, we'll look at the SMOTE family of algorithms.\n",
    "\n",
    "## What is an imbalanced dataset?\n",
    "\n",
    "An imbalanced dataset is a labeled dataset where the classes represented do not have a uniform representation.  For example, in the Ecoli dataset {cite:p}`misc_ecoli_39`, we have "
   ]
  },
  {
   "cell_type": "code",
   "execution_count": null,
   "id": "f6e3cbad-6b95-44ef-ab03-17710ef5bdc4",
   "metadata": {},
   "outputs": [],
   "source": []
  }
 ],
 "metadata": {
  "kernelspec": {
   "display_name": "Python 3 (ipykernel)",
   "language": "python",
   "name": "python3"
  },
  "language_info": {
   "codemirror_mode": {
    "name": "ipython",
    "version": 3
   },
   "file_extension": ".py",
   "mimetype": "text/x-python",
   "name": "python",
   "nbconvert_exporter": "python",
   "pygments_lexer": "ipython3",
   "version": "3.9.13"
  }
 },
 "nbformat": 4,
 "nbformat_minor": 5
}
